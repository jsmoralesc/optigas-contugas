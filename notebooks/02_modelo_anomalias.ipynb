{
 "cells": [
  {
   "cell_type": "code",
   "execution_count": null,
   "id": "cedadf31",
   "metadata": {},
   "outputs": [],
   "source": [
    "import sqlite3\n",
    "import pandas as pd\n",
    "import matplotlib.pyplot as plt\n",
    "import seaborn as sns\n",
    "\n",
    "# Conexión y carga de datos\n",
    "conn = sqlite3.connect(\"../db/optigas.db\")\n",
    "df = pd.read_sql(\"SELECT * FROM gold_anomalias\", conn)\n",
    "df['timestamp'] = pd.to_datetime(df['timestamp'])\n",
    "conn.close()\n"
   ]
  },
  {
   "cell_type": "code",
   "execution_count": null,
   "id": "d809f01c",
   "metadata": {},
   "outputs": [],
   "source": [
    "# conteo de anomalias\n",
    "print(df['severidad'].value_counts())"
   ]
  },
  {
   "cell_type": "code",
   "execution_count": null,
   "id": "0932f8af",
   "metadata": {},
   "outputs": [],
   "source": [
    "# Series de tiempo con anomalías resaltadas\n",
    "cliente = df['cliente_id'].unique()[0]\n",
    "df_c = df[df['cliente_id'] == cliente]\n",
    "\n",
    "plt.figure(figsize=(14, 5))\n",
    "plt.plot(df_c['timestamp'], df_c['volumen'], label='Volumen', alpha=0.5)\n",
    "plt.scatter(df_c[df_c['anomaly_isoforest'] == -1]['timestamp'],\n",
    "            df_c[df_c['anomaly_isoforest'] == -1]['volumen'],\n",
    "            color='red', label='Anomalía (IF)', s=40)\n",
    "plt.legend()\n",
    "plt.title(f\"Volumen vs Tiempo - Cliente {cliente}\")\n",
    "plt.show()\n"
   ]
  },
  {
   "cell_type": "code",
   "execution_count": null,
   "id": "dbb49581",
   "metadata": {},
   "outputs": [],
   "source": [
    "# Dispersión temperatura vs volumen\n",
    "sns.scatterplot(data=df_c, x='temperatura', y='volumen',\n",
    "                hue='anomaly_isoforest', palette={1: 'blue', -1: 'red'})\n",
    "plt.title(f\"Temp vs Volumen - Cliente {cliente}\")\n",
    "plt.show()\n"
   ]
  }
 ],
 "metadata": {
  "language_info": {
   "name": "python"
  }
 },
 "nbformat": 4,
 "nbformat_minor": 5
}
