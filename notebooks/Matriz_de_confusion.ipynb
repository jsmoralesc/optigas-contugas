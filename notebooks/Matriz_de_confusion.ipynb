{
  "cells": [
    {
      "cell_type": "markdown",
      "metadata": {
        "id": "5elTeatTzdXE"
      },
      "source": [
        "#RANDOM FOREST"
      ]
    },
    {
      "cell_type": "markdown",
      "metadata": {
        "id": "OSP6PAx90TU6"
      },
      "source": [
        "#Librerias"
      ]
    },
    {
      "cell_type": "code",
      "execution_count": 1,
      "metadata": {
        "id": "6Z0a7ACn0UxZ"
      },
      "outputs": [],
      "source": [
        "# !pip install openpyxl\n",
        "import pandas as pd\n",
        "import numpy as np\n",
        "from sklearn.preprocessing import StandardScaler\n",
        "from sklearn.ensemble import IsolationForest\n",
        "from statsmodels.tsa.seasonal import STL\n",
        "import plotly.graph_objects as go\n",
        "from sklearn.cluster import DBSCAN\n",
        "from sklearn.svm import OneClassSVM"
      ]
    },
    {
      "cell_type": "markdown",
      "metadata": {
        "id": "IjCcnOwO0BFm"
      },
      "source": [
        "##Funciones"
      ]
    },
    {
      "cell_type": "markdown",
      "metadata": {
        "id": "8zk_1IbLSJGA"
      },
      "source": [
        "##Llenar todos los datos"
      ]
    },
    {
      "cell_type": "code",
      "execution_count": 2,
      "metadata": {
        "id": "xh9THSKqSewN"
      },
      "outputs": [],
      "source": [
        "url = 'https://github.com/anfisbena/MIAD/raw/main/GPA/FINAL%20CONTUGAS/Datos.xlsx'\n",
        "df_inicial = pd.concat([pd.read_excel(url, sheet_name=name).assign(Cliente=name)\n",
        "                    for name in pd.ExcelFile(url).sheet_names], ignore_index=True)\n",
        "\n",
        "Cliente = ['CLIENTE1','CLIENTE2','CLIENTE3','CLIENTE4','CLIENTE5','CLIENTE6','CLIENTE7',\n",
        "            'CLIENTE8','CLIENTE9','CLIENTE10','CLIENTE11','CLIENTE12','CLIENTE13','CLIENTE14',\n",
        "            'CLIENTE15','CLIENTE16','CLIENTE17','CLIENTE18','CLIENTE19','CLIENTE20']\n",
        "\n",
        "\n",
        "df_inicial['Fecha'] = pd.to_datetime(df_inicial['Fecha'])"
      ]
    },
    {
      "cell_type": "markdown",
      "metadata": {
        "id": "9RsBULGvYZOD"
      },
      "source": [
        "##Funcion Tratar duplicados"
      ]
    },
    {
      "cell_type": "code",
      "execution_count": 3,
      "metadata": {
        "id": "YOYhF4RTSLeR"
      },
      "outputs": [],
      "source": [
        "def tratar_duplicados(df):\n",
        "    \"\"\"\n",
        "    Trata registros duplicados por cliente y fecha aplicando estrategias específicas\n",
        "    (promedio o mediana) por cliente y variable.\n",
        "    \"\"\"\n",
        "    # Lista de clientes con su estrategia recomendada\n",
        "    estrategias = {\n",
        "        \"CLIENTE2\": \"mediana\",\n",
        "        \"CLIENTE3\": \"promedio\",\n",
        "        \"CLIENTE8\": \"mediana\",\n",
        "        \"CLIENTE11\": \"promedio\",\n",
        "        \"CLIENTE16\": \"mediana\",\n",
        "        \"CLIENTE18\": {\n",
        "            \"Presion\": \"promedio\", \n",
        "            \"Temperatura\": \"promedio\", \n",
        "            \"Volumen\": \"mediana\"\n",
        "        }\n",
        "    }\n",
        "\n",
        "    # Filtrar solo los clientes con duplicados conocidos\n",
        "    clientes_duplicados = estrategias.keys()\n",
        "    df_filtrado = df[df['Cliente'].isin(clientes_duplicados)]\n",
        "\n",
        "    # Agrupar y aplicar estrategia\n",
        "    grupos = df_filtrado.groupby(['Cliente', 'Fecha'])\n",
        "\n",
        "    filas_limpias = []\n",
        "\n",
        "    for (cliente, fecha), grupo in grupos:\n",
        "        if len(grupo) == 1:\n",
        "            filas_limpias.append(grupo.iloc[0])\n",
        "        else:\n",
        "            estrategia = estrategias[cliente]\n",
        "            if isinstance(estrategia, dict):\n",
        "                fila = {\n",
        "                    \"Fecha\": fecha,\n",
        "                    \"Cliente\": cliente,\n",
        "                    \"Presion\": grupo[\"Presion\"].mean() if estrategia[\"Presion\"] == \"promedio\" else grupo[\"Presion\"].median(),\n",
        "                    \"Temperatura\": grupo[\"Temperatura\"].mean() if estrategia[\"Temperatura\"] == \"promedio\" else grupo[\"Temperatura\"].median(),\n",
        "                    \"Volumen\": grupo[\"Volumen\"].mean() if estrategia[\"Volumen\"] == \"promedio\" else grupo[\"Volumen\"].median()\n",
        "                }\n",
        "            else:\n",
        "                func = grupo.median if estrategia == \"mediana\" else grupo.mean\n",
        "                fila = func(numeric_only=True)\n",
        "                fila[\"Fecha\"] = fecha\n",
        "                fila[\"Cliente\"] = cliente\n",
        "            filas_limpias.append(pd.Series(fila))\n",
        "\n",
        "    # Crear dataFrame limpio solo con registros duplicados tratados\n",
        "    df_sin_duplicados = pd.DataFrame(filas_limpias)\n",
        "\n",
        "    # Eliminar duplicados del original y unir con la versión limpia\n",
        "    df_final = pd.concat([\n",
        "        df[~df.set_index([\"Cliente\", \"Fecha\"]).index.isin(df_sin_duplicados.set_index([\"Cliente\", \"Fecha\"]).index)],\n",
        "        df_sin_duplicados\n",
        "    ], ignore_index=True)\n",
        "\n",
        "    return df_final"
      ]
    },
    {
      "cell_type": "markdown",
      "metadata": {
        "id": "rPKgkizTYcEd"
      },
      "source": [
        "##Funcion crear y llenar campos horarios inexistentes\n"
      ]
    },
    {
      "cell_type": "code",
      "execution_count": 4,
      "metadata": {
        "id": "Bh6HSxpTYiqD"
      },
      "outputs": [],
      "source": [
        "def tratar_inexistentes(df):\n",
        "    \"\"\"\n",
        "    Rellena registros faltantes por cliente a un índice horario completo y aplica\n",
        "    interpolación lineal a las variables numéricas.\n",
        "    \"\"\"\n",
        "    # Diccionario para guardar los nuevos DataFrames reindexados por cliente\n",
        "    clientes_reindexados = {}\n",
        "\n",
        "    # Obtener la lista única de clientes del df_final\n",
        "    clientes = df['Cliente'].unique()\n",
        "\n",
        "    # Procesar cliente por cliente\n",
        "    for cliente in clientes:\n",
        "        df_cliente = df[df['Cliente'] == cliente].copy()\n",
        "\n",
        "        # Poner 'Fecha' en formato correcto y como índice\n",
        "        df_cliente = df_cliente.set_index('Fecha')\n",
        "\n",
        "        # Obtener el rango de fechas del cliente\n",
        "        fecha_min = df_cliente.index.min()\n",
        "        fecha_max = df_cliente.index.max()\n",
        "\n",
        "        # Crear indice horario\n",
        "        nuevo_index = pd.date_range(start=fecha_min, end=fecha_max, freq=\"h\")\n",
        "\n",
        "        # Reindexar al nuevo índice\n",
        "        df_cliente = df_cliente.reindex(nuevo_index)\n",
        "\n",
        "        # Restaurar columna de cliente (porque puede perderse al reindexar)\n",
        "        df_cliente['Cliente'] = cliente\n",
        "\n",
        "        # Guardar en diccionario\n",
        "        clientes_reindexados[cliente] = df_cliente\n",
        "\n",
        "    # Concatenar todos los clientes\n",
        "    df_completo = pd.concat(clientes_reindexados.values())\n",
        "    df_completo.reset_index(inplace=True)\n",
        "    df_completo.rename(columns={'index': 'Fecha'}, inplace=True)\n",
        "\n",
        "    # Interpolación por cliente para las variables numéricas\n",
        "    variables = ['Volumen', 'Presion', 'Temperatura']\n",
        "    for var in variables:\n",
        "        df_completo[var] = df_completo.groupby('Cliente')[var].transform(lambda x: x.interpolate())\n",
        "\n",
        "    return df_completo"
      ]
    },
    {
      "cell_type": "markdown",
      "metadata": {
        "id": "7YgGFdzM0npG"
      },
      "source": [
        "###Eliminar tendencia y dejar solo la estacionalidad del temperatura(Karine):"
      ]
    },
    {
      "cell_type": "code",
      "execution_count": 5,
      "metadata": {
        "id": "jhSfpMAhzcYM"
      },
      "outputs": [],
      "source": [
        "def eliminar_tendencia(df, columna):\n",
        "    \"\"\"\n",
        "    Aplica la descomposición STL para eliminar la tendencia de una serie temporal por cliente.\n",
        "    \"\"\"\n",
        "    df_stl = pd.DataFrame()\n",
        "\n",
        "    for cliente in df['Cliente'].unique():\n",
        "        df_cliente = df[df['Cliente'] == cliente].copy()\n",
        "\n",
        "        if df_cliente[columna].isna().sum() > 0 or len(df_cliente) < 48:\n",
        "            continue  # Evita clientes con demasiados NaN o pocos datos\n",
        "\n",
        "        try:\n",
        "            # Descomposición STL: eliminamos la tendencia (trend) y mantenemos la estacionalidad\n",
        "            stl = STL(df_cliente[columna], period=24)  # Periodo diario para datos horarios\n",
        "            resultado = stl.fit()\n",
        "\n",
        "            # Eliminar la tendencia (restar la tendencia)\n",
        "            df_cliente[f'{columna}SinTendencia'] = df_cliente[columna] - resultado.trend\n",
        "        except Exception as e:\n",
        "            print(f\"Error procesando cliente {cliente}: {e}\")\n",
        "            continue\n",
        "\n",
        "        df_cliente = df_cliente.reset_index()\n",
        "        df_stl = pd.concat([df_stl, df_cliente], ignore_index=True)\n",
        "\n",
        "    return df_stl"
      ]
    },
    {
      "cell_type": "markdown",
      "metadata": {
        "id": "YqGn1FoW0DTy"
      },
      "source": [
        "### Tratar Datos, interpolarlos y completar todo el DF (Diego)"
      ]
    },
    {
      "cell_type": "code",
      "execution_count": 6,
      "metadata": {
        "id": "5OS4eA2e0Hrw"
      },
      "outputs": [],
      "source": [
        "def escalar_datos(df):\n",
        "    \"\"\"\n",
        "    Escala las variables numéricas usando escaladores robustos.\n",
        "    \"\"\"\n",
        "    df_resultado = df.copy()\n",
        "\n",
        "    for cliente_id, cliente_data in df.groupby('Cliente'):\n",
        "        # Extraer variables numéricas\n",
        "        features = cliente_data[['Presion', 'TemperaturaSinTendencia', 'Volumen']].astype('float32')\n",
        "\n",
        "        # Escalar\n",
        "        scaler = StandardScaler()\n",
        "        features_scaled = scaler.fit_transform(features)\n",
        "\n",
        "        # Asignar columnas escaladas\n",
        "        df_resultado.loc[cliente_data.index, 'Presion_scaled'] = features_scaled[:, 0]\n",
        "        df_resultado.loc[cliente_data.index, 'Temperatura_scaled'] = features_scaled[:, 1]\n",
        "        df_resultado.loc[cliente_data.index, 'Volumen_scaled'] = features_scaled[:, 2]\n",
        "\n",
        "    return df_resultado"
      ]
    },
    {
      "cell_type": "code",
      "execution_count": 7,
      "metadata": {
        "id": "XKoDnMg1LFcC"
      },
      "outputs": [],
      "source": [
        "def crear_findings_norma(df):\n",
        "    df=df.copy()\n",
        "    # ---- 1. Detección por Reglas de Negocio ---- #\n",
        "    df['alerta_presion'] = ~df['Presion'].between(7.25, 17.4)\n",
        "    df['alerta_temperatura'] = ~df['Temperatura'].between(0, 50)\n",
        "    # Crear una condición para detectar cuando alguna variable es 0 y las otras > 0\n",
        "    condicion_cero =(\n",
        "        ((df['Presion'] == 0) & (df['Temperatura'] > 0) & (df['Volumen'] > 0)) |  # presión es 0\n",
        "        ((df['Temperatura'] == 0) & (df['Presion'] > 0) & (df['Volumen'] > 0))   # temperatura es 0\n",
        "    )  # volumen es 0\n",
        "    # # Combinar todas las alertas\n",
        "    df['alerta_reglas'] = df['alerta_presion'] | df['alerta_temperatura'] | condicion_cero\n",
        "    return df"
      ]
    },
    {
      "cell_type": "code",
      "execution_count": 8,
      "metadata": {
        "colab": {
          "base_uri": "https://localhost:8080/",
          "height": 206
        },
        "id": "xQZIgkO_bkFn",
        "outputId": "6db286dd-5db5-4d16-f6e1-d96a4dc9fbdd"
      },
      "outputs": [
        {
          "data": {
            "application/vnd.microsoft.datawrangler.viewer.v0+json": {
              "columns": [
                {
                  "name": "index",
                  "rawType": "int64",
                  "type": "integer"
                },
                {
                  "name": "Fecha",
                  "rawType": "datetime64[ns]",
                  "type": "datetime"
                },
                {
                  "name": "Presion",
                  "rawType": "float64",
                  "type": "float"
                },
                {
                  "name": "Temperatura",
                  "rawType": "float64",
                  "type": "float"
                },
                {
                  "name": "Volumen",
                  "rawType": "float64",
                  "type": "float"
                },
                {
                  "name": "Cliente",
                  "rawType": "object",
                  "type": "string"
                }
              ],
              "ref": "1cf18eaa-fddc-4f1e-a593-95510dfaee25",
              "rows": [
                [
                  "0",
                  "2019-01-14 00:00:00",
                  "17.7325634924889",
                  "28.2093536541928",
                  "20.96975076975659",
                  "CLIENTE1"
                ],
                [
                  "1",
                  "2019-01-14 01:00:00",
                  "17.74777603806793",
                  "28.51861421312152",
                  "17.84573913758869",
                  "CLIENTE1"
                ],
                [
                  "2",
                  "2019-01-14 02:00:00",
                  "17.75891638774564",
                  "28.23019056507057",
                  "20.97591383522386",
                  "CLIENTE1"
                ],
                [
                  "3",
                  "2019-01-14 03:00:00",
                  "17.72794022684193",
                  "27.8115085858999",
                  "20.59229909002912",
                  "CLIENTE1"
                ],
                [
                  "4",
                  "2019-01-14 04:00:00",
                  "17.74648374408114",
                  "27.79529343321371",
                  "21.69062581523098",
                  "CLIENTE1"
                ]
              ],
              "shape": {
                "columns": 5,
                "rows": 5
              }
            },
            "text/html": [
              "<div>\n",
              "<style scoped>\n",
              "    .dataframe tbody tr th:only-of-type {\n",
              "        vertical-align: middle;\n",
              "    }\n",
              "\n",
              "    .dataframe tbody tr th {\n",
              "        vertical-align: top;\n",
              "    }\n",
              "\n",
              "    .dataframe thead th {\n",
              "        text-align: right;\n",
              "    }\n",
              "</style>\n",
              "<table border=\"1\" class=\"dataframe\">\n",
              "  <thead>\n",
              "    <tr style=\"text-align: right;\">\n",
              "      <th></th>\n",
              "      <th>Fecha</th>\n",
              "      <th>Presion</th>\n",
              "      <th>Temperatura</th>\n",
              "      <th>Volumen</th>\n",
              "      <th>Cliente</th>\n",
              "    </tr>\n",
              "  </thead>\n",
              "  <tbody>\n",
              "    <tr>\n",
              "      <th>0</th>\n",
              "      <td>2019-01-14 00:00:00</td>\n",
              "      <td>17.732563</td>\n",
              "      <td>28.209354</td>\n",
              "      <td>20.969751</td>\n",
              "      <td>CLIENTE1</td>\n",
              "    </tr>\n",
              "    <tr>\n",
              "      <th>1</th>\n",
              "      <td>2019-01-14 01:00:00</td>\n",
              "      <td>17.747776</td>\n",
              "      <td>28.518614</td>\n",
              "      <td>17.845739</td>\n",
              "      <td>CLIENTE1</td>\n",
              "    </tr>\n",
              "    <tr>\n",
              "      <th>2</th>\n",
              "      <td>2019-01-14 02:00:00</td>\n",
              "      <td>17.758916</td>\n",
              "      <td>28.230191</td>\n",
              "      <td>20.975914</td>\n",
              "      <td>CLIENTE1</td>\n",
              "    </tr>\n",
              "    <tr>\n",
              "      <th>3</th>\n",
              "      <td>2019-01-14 03:00:00</td>\n",
              "      <td>17.727940</td>\n",
              "      <td>27.811509</td>\n",
              "      <td>20.592299</td>\n",
              "      <td>CLIENTE1</td>\n",
              "    </tr>\n",
              "    <tr>\n",
              "      <th>4</th>\n",
              "      <td>2019-01-14 04:00:00</td>\n",
              "      <td>17.746484</td>\n",
              "      <td>27.795293</td>\n",
              "      <td>21.690626</td>\n",
              "      <td>CLIENTE1</td>\n",
              "    </tr>\n",
              "  </tbody>\n",
              "</table>\n",
              "</div>"
            ],
            "text/plain": [
              "                Fecha    Presion  Temperatura    Volumen   Cliente\n",
              "0 2019-01-14 00:00:00  17.732563    28.209354  20.969751  CLIENTE1\n",
              "1 2019-01-14 01:00:00  17.747776    28.518614  17.845739  CLIENTE1\n",
              "2 2019-01-14 02:00:00  17.758916    28.230191  20.975914  CLIENTE1\n",
              "3 2019-01-14 03:00:00  17.727940    27.811509  20.592299  CLIENTE1\n",
              "4 2019-01-14 04:00:00  17.746484    27.795293  21.690626  CLIENTE1"
            ]
          },
          "execution_count": 8,
          "metadata": {},
          "output_type": "execute_result"
        }
      ],
      "source": [
        "df=tratar_duplicados(df_inicial)\n",
        "df.head()"
      ]
    },
    {
      "cell_type": "code",
      "execution_count": 9,
      "metadata": {
        "colab": {
          "base_uri": "https://localhost:8080/",
          "height": 206
        },
        "id": "Lgc4XKhkVYmo",
        "outputId": "e50ab00b-e6db-4afc-8ee1-d4b435de30c1"
      },
      "outputs": [
        {
          "data": {
            "application/vnd.microsoft.datawrangler.viewer.v0+json": {
              "columns": [
                {
                  "name": "index",
                  "rawType": "int64",
                  "type": "integer"
                },
                {
                  "name": "Fecha",
                  "rawType": "datetime64[ns]",
                  "type": "datetime"
                },
                {
                  "name": "Presion",
                  "rawType": "float64",
                  "type": "float"
                },
                {
                  "name": "Temperatura",
                  "rawType": "float64",
                  "type": "float"
                },
                {
                  "name": "Volumen",
                  "rawType": "float64",
                  "type": "float"
                },
                {
                  "name": "Cliente",
                  "rawType": "object",
                  "type": "string"
                }
              ],
              "ref": "c2981745-7693-4e66-b2eb-bb7e14e30fb0",
              "rows": [
                [
                  "0",
                  "2019-01-14 00:00:00",
                  "17.7325634924889",
                  "28.2093536541928",
                  "20.96975076975659",
                  "CLIENTE1"
                ],
                [
                  "1",
                  "2019-01-14 01:00:00",
                  "17.74777603806793",
                  "28.51861421312152",
                  "17.84573913758869",
                  "CLIENTE1"
                ],
                [
                  "2",
                  "2019-01-14 02:00:00",
                  "17.75891638774564",
                  "28.23019056507057",
                  "20.97591383522386",
                  "CLIENTE1"
                ],
                [
                  "3",
                  "2019-01-14 03:00:00",
                  "17.72794022684193",
                  "27.8115085858999",
                  "20.59229909002912",
                  "CLIENTE1"
                ],
                [
                  "4",
                  "2019-01-14 04:00:00",
                  "17.74648374408114",
                  "27.79529343321371",
                  "21.69062581523098",
                  "CLIENTE1"
                ]
              ],
              "shape": {
                "columns": 5,
                "rows": 5
              }
            },
            "text/html": [
              "<div>\n",
              "<style scoped>\n",
              "    .dataframe tbody tr th:only-of-type {\n",
              "        vertical-align: middle;\n",
              "    }\n",
              "\n",
              "    .dataframe tbody tr th {\n",
              "        vertical-align: top;\n",
              "    }\n",
              "\n",
              "    .dataframe thead th {\n",
              "        text-align: right;\n",
              "    }\n",
              "</style>\n",
              "<table border=\"1\" class=\"dataframe\">\n",
              "  <thead>\n",
              "    <tr style=\"text-align: right;\">\n",
              "      <th></th>\n",
              "      <th>Fecha</th>\n",
              "      <th>Presion</th>\n",
              "      <th>Temperatura</th>\n",
              "      <th>Volumen</th>\n",
              "      <th>Cliente</th>\n",
              "    </tr>\n",
              "  </thead>\n",
              "  <tbody>\n",
              "    <tr>\n",
              "      <th>0</th>\n",
              "      <td>2019-01-14 00:00:00</td>\n",
              "      <td>17.732563</td>\n",
              "      <td>28.209354</td>\n",
              "      <td>20.969751</td>\n",
              "      <td>CLIENTE1</td>\n",
              "    </tr>\n",
              "    <tr>\n",
              "      <th>1</th>\n",
              "      <td>2019-01-14 01:00:00</td>\n",
              "      <td>17.747776</td>\n",
              "      <td>28.518614</td>\n",
              "      <td>17.845739</td>\n",
              "      <td>CLIENTE1</td>\n",
              "    </tr>\n",
              "    <tr>\n",
              "      <th>2</th>\n",
              "      <td>2019-01-14 02:00:00</td>\n",
              "      <td>17.758916</td>\n",
              "      <td>28.230191</td>\n",
              "      <td>20.975914</td>\n",
              "      <td>CLIENTE1</td>\n",
              "    </tr>\n",
              "    <tr>\n",
              "      <th>3</th>\n",
              "      <td>2019-01-14 03:00:00</td>\n",
              "      <td>17.727940</td>\n",
              "      <td>27.811509</td>\n",
              "      <td>20.592299</td>\n",
              "      <td>CLIENTE1</td>\n",
              "    </tr>\n",
              "    <tr>\n",
              "      <th>4</th>\n",
              "      <td>2019-01-14 04:00:00</td>\n",
              "      <td>17.746484</td>\n",
              "      <td>27.795293</td>\n",
              "      <td>21.690626</td>\n",
              "      <td>CLIENTE1</td>\n",
              "    </tr>\n",
              "  </tbody>\n",
              "</table>\n",
              "</div>"
            ],
            "text/plain": [
              "                Fecha    Presion  Temperatura    Volumen   Cliente\n",
              "0 2019-01-14 00:00:00  17.732563    28.209354  20.969751  CLIENTE1\n",
              "1 2019-01-14 01:00:00  17.747776    28.518614  17.845739  CLIENTE1\n",
              "2 2019-01-14 02:00:00  17.758916    28.230191  20.975914  CLIENTE1\n",
              "3 2019-01-14 03:00:00  17.727940    27.811509  20.592299  CLIENTE1\n",
              "4 2019-01-14 04:00:00  17.746484    27.795293  21.690626  CLIENTE1"
            ]
          },
          "execution_count": 9,
          "metadata": {},
          "output_type": "execute_result"
        }
      ],
      "source": [
        "df=tratar_inexistentes(df)\n",
        "df.head()\n"
      ]
    },
    {
      "cell_type": "code",
      "execution_count": 10,
      "metadata": {
        "colab": {
          "base_uri": "https://localhost:8080/",
          "height": 206
        },
        "id": "wxEVZKAVV2Ha",
        "outputId": "3c5378c7-8c5a-4098-a9fe-88800fc68246"
      },
      "outputs": [
        {
          "data": {
            "application/vnd.microsoft.datawrangler.viewer.v0+json": {
              "columns": [
                {
                  "name": "index",
                  "rawType": "int64",
                  "type": "integer"
                },
                {
                  "name": "index",
                  "rawType": "int64",
                  "type": "integer"
                },
                {
                  "name": "Fecha",
                  "rawType": "datetime64[ns]",
                  "type": "datetime"
                },
                {
                  "name": "Presion",
                  "rawType": "float64",
                  "type": "float"
                },
                {
                  "name": "Temperatura",
                  "rawType": "float64",
                  "type": "float"
                },
                {
                  "name": "Volumen",
                  "rawType": "float64",
                  "type": "float"
                },
                {
                  "name": "Cliente",
                  "rawType": "object",
                  "type": "string"
                },
                {
                  "name": "TemperaturaSinTendencia",
                  "rawType": "float64",
                  "type": "float"
                }
              ],
              "ref": "517f5510-c3e2-4980-aa9b-b1e0e529997c",
              "rows": [
                [
                  "0",
                  "0",
                  "2019-01-14 00:00:00",
                  "17.7325634924889",
                  "28.2093536541928",
                  "20.96975076975659",
                  "CLIENTE1",
                  "0.575215820976954"
                ],
                [
                  "1",
                  "1",
                  "2019-01-14 01:00:00",
                  "17.74777603806793",
                  "28.51861421312152",
                  "17.84573913758869",
                  "CLIENTE1",
                  "0.8932974916663099"
                ],
                [
                  "2",
                  "2",
                  "2019-01-14 02:00:00",
                  "17.75891638774564",
                  "28.23019056507057",
                  "20.97591383522386",
                  "CLIENTE1",
                  "0.6139935548676441"
                ],
                [
                  "3",
                  "3",
                  "2019-01-14 03:00:00",
                  "17.72794022684193",
                  "27.8115085858999",
                  "20.59229909002912",
                  "CLIENTE1",
                  "0.20474844908356715"
                ],
                [
                  "4",
                  "4",
                  "2019-01-14 04:00:00",
                  "17.74648374408114",
                  "27.79529343321371",
                  "21.69062581523098",
                  "CLIENTE1",
                  "0.1983198533515278"
                ]
              ],
              "shape": {
                "columns": 7,
                "rows": 5
              }
            },
            "text/html": [
              "<div>\n",
              "<style scoped>\n",
              "    .dataframe tbody tr th:only-of-type {\n",
              "        vertical-align: middle;\n",
              "    }\n",
              "\n",
              "    .dataframe tbody tr th {\n",
              "        vertical-align: top;\n",
              "    }\n",
              "\n",
              "    .dataframe thead th {\n",
              "        text-align: right;\n",
              "    }\n",
              "</style>\n",
              "<table border=\"1\" class=\"dataframe\">\n",
              "  <thead>\n",
              "    <tr style=\"text-align: right;\">\n",
              "      <th></th>\n",
              "      <th>index</th>\n",
              "      <th>Fecha</th>\n",
              "      <th>Presion</th>\n",
              "      <th>Temperatura</th>\n",
              "      <th>Volumen</th>\n",
              "      <th>Cliente</th>\n",
              "      <th>TemperaturaSinTendencia</th>\n",
              "    </tr>\n",
              "  </thead>\n",
              "  <tbody>\n",
              "    <tr>\n",
              "      <th>0</th>\n",
              "      <td>0</td>\n",
              "      <td>2019-01-14 00:00:00</td>\n",
              "      <td>17.732563</td>\n",
              "      <td>28.209354</td>\n",
              "      <td>20.969751</td>\n",
              "      <td>CLIENTE1</td>\n",
              "      <td>0.575216</td>\n",
              "    </tr>\n",
              "    <tr>\n",
              "      <th>1</th>\n",
              "      <td>1</td>\n",
              "      <td>2019-01-14 01:00:00</td>\n",
              "      <td>17.747776</td>\n",
              "      <td>28.518614</td>\n",
              "      <td>17.845739</td>\n",
              "      <td>CLIENTE1</td>\n",
              "      <td>0.893297</td>\n",
              "    </tr>\n",
              "    <tr>\n",
              "      <th>2</th>\n",
              "      <td>2</td>\n",
              "      <td>2019-01-14 02:00:00</td>\n",
              "      <td>17.758916</td>\n",
              "      <td>28.230191</td>\n",
              "      <td>20.975914</td>\n",
              "      <td>CLIENTE1</td>\n",
              "      <td>0.613994</td>\n",
              "    </tr>\n",
              "    <tr>\n",
              "      <th>3</th>\n",
              "      <td>3</td>\n",
              "      <td>2019-01-14 03:00:00</td>\n",
              "      <td>17.727940</td>\n",
              "      <td>27.811509</td>\n",
              "      <td>20.592299</td>\n",
              "      <td>CLIENTE1</td>\n",
              "      <td>0.204748</td>\n",
              "    </tr>\n",
              "    <tr>\n",
              "      <th>4</th>\n",
              "      <td>4</td>\n",
              "      <td>2019-01-14 04:00:00</td>\n",
              "      <td>17.746484</td>\n",
              "      <td>27.795293</td>\n",
              "      <td>21.690626</td>\n",
              "      <td>CLIENTE1</td>\n",
              "      <td>0.198320</td>\n",
              "    </tr>\n",
              "  </tbody>\n",
              "</table>\n",
              "</div>"
            ],
            "text/plain": [
              "   index               Fecha    Presion  Temperatura    Volumen   Cliente   \n",
              "0      0 2019-01-14 00:00:00  17.732563    28.209354  20.969751  CLIENTE1  \\\n",
              "1      1 2019-01-14 01:00:00  17.747776    28.518614  17.845739  CLIENTE1   \n",
              "2      2 2019-01-14 02:00:00  17.758916    28.230191  20.975914  CLIENTE1   \n",
              "3      3 2019-01-14 03:00:00  17.727940    27.811509  20.592299  CLIENTE1   \n",
              "4      4 2019-01-14 04:00:00  17.746484    27.795293  21.690626  CLIENTE1   \n",
              "\n",
              "   TemperaturaSinTendencia  \n",
              "0                 0.575216  \n",
              "1                 0.893297  \n",
              "2                 0.613994  \n",
              "3                 0.204748  \n",
              "4                 0.198320  "
            ]
          },
          "execution_count": 10,
          "metadata": {},
          "output_type": "execute_result"
        }
      ],
      "source": [
        "# df=crear_findings_norma(df)\n",
        "df=eliminar_tendencia(df,'Temperatura')\n",
        "df.head()"
      ]
    },
    {
      "cell_type": "code",
      "execution_count": 11,
      "metadata": {
        "colab": {
          "base_uri": "https://localhost:8080/",
          "height": 399
        },
        "id": "_BS8GGR7V2wk",
        "outputId": "aebb0b68-929a-4a53-fb37-0677160f6a45"
      },
      "outputs": [
        {
          "data": {
            "application/vnd.microsoft.datawrangler.viewer.v0+json": {
              "columns": [
                {
                  "name": "index",
                  "rawType": "int64",
                  "type": "integer"
                },
                {
                  "name": "index",
                  "rawType": "int64",
                  "type": "integer"
                },
                {
                  "name": "timestamp",
                  "rawType": "datetime64[ns]",
                  "type": "datetime"
                },
                {
                  "name": "presion",
                  "rawType": "float64",
                  "type": "float"
                },
                {
                  "name": "temperatura",
                  "rawType": "float64",
                  "type": "float"
                },
                {
                  "name": "volumen",
                  "rawType": "float64",
                  "type": "float"
                },
                {
                  "name": "cliente_id",
                  "rawType": "object",
                  "type": "string"
                },
                {
                  "name": "TemperaturaSinTendencia",
                  "rawType": "float64",
                  "type": "float"
                },
                {
                  "name": "Presion_scaled",
                  "rawType": "float32",
                  "type": "float"
                },
                {
                  "name": "Temperatura_scaled",
                  "rawType": "float32",
                  "type": "float"
                },
                {
                  "name": "Volumen_scaled",
                  "rawType": "float32",
                  "type": "float"
                }
              ],
              "ref": "30319005-6da2-4264-9c74-3f9864976533",
              "rows": [
                [
                  "0",
                  "0",
                  "2019-01-14 00:00:00",
                  "17.7325634924889",
                  "28.2093536541928",
                  "20.96975076975659",
                  "CLIENTE1",
                  "0.575215820976954",
                  "0.5481865",
                  "0.7593689",
                  "0.12369709"
                ],
                [
                  "1",
                  "1",
                  "2019-01-14 01:00:00",
                  "17.74777603806793",
                  "28.51861421312152",
                  "17.84573913758869",
                  "CLIENTE1",
                  "0.8932974916663099",
                  "0.5906679",
                  "1.1793265",
                  "-0.26970127"
                ],
                [
                  "2",
                  "2",
                  "2019-01-14 02:00:00",
                  "17.75891638774564",
                  "28.23019056507057",
                  "20.97591383522386",
                  "CLIENTE1",
                  "0.6139935548676441",
                  "0.62177795",
                  "0.8105664",
                  "0.12447313"
                ],
                [
                  "3",
                  "3",
                  "2019-01-14 03:00:00",
                  "17.72794022684193",
                  "27.8115085858999",
                  "20.59229909002912",
                  "CLIENTE1",
                  "0.20474844908356715",
                  "0.5352759",
                  "0.27024746",
                  "0.076165475"
                ],
                [
                  "4",
                  "4",
                  "2019-01-14 04:00:00",
                  "17.74648374408114",
                  "27.79529343321371",
                  "21.69062581523098",
                  "CLIENTE1",
                  "0.1983198533515278",
                  "0.58705676",
                  "0.26175988",
                  "0.21447489"
                ]
              ],
              "shape": {
                "columns": 10,
                "rows": 5
              }
            },
            "text/html": [
              "<div>\n",
              "<style scoped>\n",
              "    .dataframe tbody tr th:only-of-type {\n",
              "        vertical-align: middle;\n",
              "    }\n",
              "\n",
              "    .dataframe tbody tr th {\n",
              "        vertical-align: top;\n",
              "    }\n",
              "\n",
              "    .dataframe thead th {\n",
              "        text-align: right;\n",
              "    }\n",
              "</style>\n",
              "<table border=\"1\" class=\"dataframe\">\n",
              "  <thead>\n",
              "    <tr style=\"text-align: right;\">\n",
              "      <th></th>\n",
              "      <th>index</th>\n",
              "      <th>timestamp</th>\n",
              "      <th>presion</th>\n",
              "      <th>temperatura</th>\n",
              "      <th>volumen</th>\n",
              "      <th>cliente_id</th>\n",
              "      <th>TemperaturaSinTendencia</th>\n",
              "      <th>Presion_scaled</th>\n",
              "      <th>Temperatura_scaled</th>\n",
              "      <th>Volumen_scaled</th>\n",
              "    </tr>\n",
              "  </thead>\n",
              "  <tbody>\n",
              "    <tr>\n",
              "      <th>0</th>\n",
              "      <td>0</td>\n",
              "      <td>2019-01-14 00:00:00</td>\n",
              "      <td>17.732563</td>\n",
              "      <td>28.209354</td>\n",
              "      <td>20.969751</td>\n",
              "      <td>CLIENTE1</td>\n",
              "      <td>0.575216</td>\n",
              "      <td>0.548186</td>\n",
              "      <td>0.759369</td>\n",
              "      <td>0.123697</td>\n",
              "    </tr>\n",
              "    <tr>\n",
              "      <th>1</th>\n",
              "      <td>1</td>\n",
              "      <td>2019-01-14 01:00:00</td>\n",
              "      <td>17.747776</td>\n",
              "      <td>28.518614</td>\n",
              "      <td>17.845739</td>\n",
              "      <td>CLIENTE1</td>\n",
              "      <td>0.893297</td>\n",
              "      <td>0.590668</td>\n",
              "      <td>1.179327</td>\n",
              "      <td>-0.269701</td>\n",
              "    </tr>\n",
              "    <tr>\n",
              "      <th>2</th>\n",
              "      <td>2</td>\n",
              "      <td>2019-01-14 02:00:00</td>\n",
              "      <td>17.758916</td>\n",
              "      <td>28.230191</td>\n",
              "      <td>20.975914</td>\n",
              "      <td>CLIENTE1</td>\n",
              "      <td>0.613994</td>\n",
              "      <td>0.621778</td>\n",
              "      <td>0.810566</td>\n",
              "      <td>0.124473</td>\n",
              "    </tr>\n",
              "    <tr>\n",
              "      <th>3</th>\n",
              "      <td>3</td>\n",
              "      <td>2019-01-14 03:00:00</td>\n",
              "      <td>17.727940</td>\n",
              "      <td>27.811509</td>\n",
              "      <td>20.592299</td>\n",
              "      <td>CLIENTE1</td>\n",
              "      <td>0.204748</td>\n",
              "      <td>0.535276</td>\n",
              "      <td>0.270247</td>\n",
              "      <td>0.076165</td>\n",
              "    </tr>\n",
              "    <tr>\n",
              "      <th>4</th>\n",
              "      <td>4</td>\n",
              "      <td>2019-01-14 04:00:00</td>\n",
              "      <td>17.746484</td>\n",
              "      <td>27.795293</td>\n",
              "      <td>21.690626</td>\n",
              "      <td>CLIENTE1</td>\n",
              "      <td>0.198320</td>\n",
              "      <td>0.587057</td>\n",
              "      <td>0.261760</td>\n",
              "      <td>0.214475</td>\n",
              "    </tr>\n",
              "  </tbody>\n",
              "</table>\n",
              "</div>"
            ],
            "text/plain": [
              "   index           timestamp    presion  temperatura    volumen cliente_id   \n",
              "0      0 2019-01-14 00:00:00  17.732563    28.209354  20.969751   CLIENTE1  \\\n",
              "1      1 2019-01-14 01:00:00  17.747776    28.518614  17.845739   CLIENTE1   \n",
              "2      2 2019-01-14 02:00:00  17.758916    28.230191  20.975914   CLIENTE1   \n",
              "3      3 2019-01-14 03:00:00  17.727940    27.811509  20.592299   CLIENTE1   \n",
              "4      4 2019-01-14 04:00:00  17.746484    27.795293  21.690626   CLIENTE1   \n",
              "\n",
              "   TemperaturaSinTendencia  Presion_scaled  Temperatura_scaled  Volumen_scaled  \n",
              "0                 0.575216        0.548186            0.759369        0.123697  \n",
              "1                 0.893297        0.590668            1.179327       -0.269701  \n",
              "2                 0.613994        0.621778            0.810566        0.124473  \n",
              "3                 0.204748        0.535276            0.270247        0.076165  \n",
              "4                 0.198320        0.587057            0.261760        0.214475  "
            ]
          },
          "execution_count": 11,
          "metadata": {},
          "output_type": "execute_result"
        }
      ],
      "source": [
        "df=escalar_datos(df)\n",
        "df=df.rename(columns={\"Fecha\": \"timestamp\",'Presion':'presion','Volumen':'volumen','Temperatura':'temperatura','Cliente':'cliente_id'})\n",
        "df.head()"
      ]
    },
    {
      "cell_type": "markdown",
      "metadata": {
        "id": "1zqtXdVZ1B-U"
      },
      "source": [
        "###Modelo ISOFOREST"
      ]
    },
    {
      "cell_type": "markdown",
      "metadata": {
        "id": "V6Zod1-N1Z9B"
      },
      "source": [
        "#EJECUCION"
      ]
    },
    {
      "cell_type": "code",
      "execution_count": 14,
      "metadata": {
        "id": "JLhnXMiG1byq"
      },
      "outputs": [],
      "source": [
        "from sklearn.metrics import confusion_matrix\n",
        "\n",
        "Cliente ={\n",
        "    \"CLIENTE1\":{'eps':0.5,'min_samp':5,'mf':0.8,'nt':200,'cnt':0.01},\n",
        "    \"CLIENTE2\":{'eps':0.5,'min_samp':5,'mf':0.8,'nt':50,'cnt':0.01},\n",
        "    \"CLIENTE3\":{'eps':0.5,'min_samp':5,'mf':0.8,'nt':100,'cnt':0.01},\n",
        "    \"CLIENTE4\":{'eps':0.5,'min_samp':5,'mf':0.8,'nt':200,'cnt':0.01},\n",
        "    \"CLIENTE5\":{'eps':0.5,'min_samp':5,'mf':0.8,'nt':500,'cnt':0.01},\n",
        "    \"CLIENTE6\":{'eps':0.5,'min_samp':5,'mf':0.8,'nt':100,'cnt':0.01},\n",
        "    \"CLIENTE7\":{'eps':0.5,'min_samp':5,'mf':0.8,'nt':100,'cnt':0.01},\n",
        "    \"CLIENTE8\":{'eps':0.5,'min_samp':5,'mf':0.5,'nt':100,'cnt':0.1},\n",
        "    \"CLIENTE9\":{'eps':0.5,'min_samp':5,'mf':0.8,'nt':500,'cnt':0.05},\n",
        "    \"CLIENTE10\":{'eps':0.5,'min_samp':5,'mf':0.8,'nt':200,'cnt':0.01},\n",
        "    \"CLIENTE11\":{'eps':0.5,'min_samp':5,'mf':0.5,'nt':500,'cnt':0.01},\n",
        "    \"CLIENTE12\":{'eps':0.5,'min_samp':5,'mf':0.8,'nt':50,'cnt':0.01},\n",
        "    \"CLIENTE13\":{'eps':0.5,'min_samp':5,'mf':0.8,'nt':100,'cnt':0.05},\n",
        "    \"CLIENTE14\":{'eps':0.5,'min_samp':5,'mf':0.5,'nt':500,'cnt':0.01},\n",
        "    \"CLIENTE15\":{'eps':0.5,'min_samp':5,'mf':0.8,'nt':100,'cnt':0.05},\n",
        "    \"CLIENTE16\":{'eps':0.5,'min_samp':5,'mf':0.5,'nt':500,'cnt':0.1},\n",
        "    \"CLIENTE17\":{'eps':0.5,'min_samp':5,'mf':0.8,'nt':200,'cnt':0.01},\n",
        "    \"CLIENTE18\":{'eps':0.5,'min_samp':5,'mf':0.8,'nt':100,'cnt':0.01},\n",
        "    \"CLIENTE19\":{'eps':0.5,'min_samp':5,'mf':0.8,'nt':50,'cnt':0.1},\n",
        "    \"CLIENTE20\":{'eps':0.5,'min_samp':5,'mf':0.8,'nt':200,'cnt':0.01},\n",
        "}\n",
        "\n",
        "def detectar_anomalias_IQR(serie):\n",
        "    Q1 = serie.quantile(0.25)\n",
        "    Q3 = serie.quantile(0.75)\n",
        "    IQR = Q3 - Q1\n",
        "    lim_inf = Q1 - 1.5 * IQR\n",
        "    lim_sup = Q3 + 1.5 * IQR\n",
        "    return ~serie.between(lim_inf, lim_sup)\n",
        "\n",
        "def entrenar_por_cliente(df):\n",
        "    # Realizar conexión a la BD\n",
        "\n",
        "    df_all = df.copy()\n",
        "    df_all['timestamp'] = pd.to_datetime(df_all['timestamp'])\n",
        "\n",
        "    resultados = []\n",
        "    clientes_excluidos = {19, 4, 20, 6, 1, 17, 5, 14, 18, 2}\n",
        "\n",
        "    for cliente in Cliente.keys():\n",
        "        df = df_all[df_all['cliente_id'] == cliente].copy()\n",
        "        df.set_index('timestamp', inplace=True)\n",
        "\n",
        "        # Inicializar las columnas de alerta en False por defecto\n",
        "        df['alerta_presion'] = False\n",
        "        df['alerta_temperatura'] = False\n",
        "\n",
        "        # ---- 1. Detección por Reglas de Negocio (IQR) en datos originales ---- #\n",
        "        if cliente not in clientes_excluidos:\n",
        "            df['alerta_presion'] = detectar_anomalias_IQR(df['presion'])\n",
        "            df['alerta_temperatura'] = detectar_anomalias_IQR(df['temperatura'])\n",
        "\n",
        "\n",
        "        # Combinar todas las alertas\n",
        "        df['alerta_reglas'] = df['alerta_presion'] | df['alerta_temperatura']\n",
        "        #| condicion_cero\n",
        "\n",
        "        # ---- 2. Detección por Modelos de ML ---- #\n",
        "        features = ['Presion_scaled', 'Temperatura_scaled', 'Volumen_scaled']\n",
        "        model = DBSCAN(min_samples=Cliente[cliente]['min_samp'], eps=Cliente[cliente]['eps'])\n",
        "        dbscan_pred = model.fit_predict(df[features])\n",
        "        iso = IsolationForest( n_estimators=Cliente[cliente]['nt'], contamination=Cliente[cliente]['cnt'], max_features=Cliente[cliente]['mf'], random_state=42)\n",
        "        iso_pred = iso.fit_predict(df[features])\n",
        "        one_class_svm = OneClassSVM(nu=0.01, kernel=\"rbf\", gamma=\"scale\")\n",
        "        svm_pred = one_class_svm.fit_predict(df[features])\n",
        "        df['Anomalia_iso'] = np.where(iso_pred == -1, True, False)\n",
        "        df['Anomalia_DBSCAN'] = np.where(dbscan_pred == -1, True, False)\n",
        "        df['Anomalia_SVM'] = np.where(svm_pred == -1, True, False)\n",
        "        df['Anomalia_general']= df['Anomalia_DBSCAN'] | df['Anomalia_SVM'] | df['Anomalia_iso']\n",
        "\n",
        "        # ---- 3. Severidad Combinada (Reglas + ML) ---- #\n",
        "        df['severidad'] = df.apply(lambda row: \n",
        "            'Alto' if row['alerta_reglas'] == 1\n",
        "            else 'Potencial' if row['Anomalia_general'] == 1  \n",
        "            else 'OK', axis=1)\n",
        "\n",
        "\n",
        "        # Guardar resultados\n",
        "        resultados.append(df)\n",
        "\n",
        "    # Unir resultados\n",
        "    df_resultado = pd.concat(resultados)\n",
        "    df_resultado.drop(columns=['index'], errors='ignore', inplace=True)\n",
        "    df_resultado.reset_index(inplace=True)\n",
        "\n",
        "    return df_resultado\n",
        "\n",
        "\n",
        "def matriz_confusion_por_modelo(df_resultado):\n",
        "    y_true = df_resultado['alerta_reglas'].astype(int)\n",
        "\n",
        "    modelos = ['Anomalia_iso', 'Anomalia_DBSCAN', 'Anomalia_SVM','Anomalia_general']\n",
        "    matrices = {}\n",
        "\n",
        "    for modelo in modelos:\n",
        "        y_pred = df_resultado[modelo].astype(int)\n",
        "        matriz = confusion_matrix(y_true, y_pred, labels=[0, 1])\n",
        "        matriz_df = pd.DataFrame(\n",
        "            matriz,\n",
        "            index=['Real 0', 'Real 1'],\n",
        "            columns=['Pred 0', 'Pred 1']\n",
        "        )\n",
        "        print(f\"\\n📊 Matriz de Confusión: {modelo}\")\n",
        "        print(matriz_df)\n",
        "        matrices[modelo] = matriz_df\n",
        "\n",
        "    return matrices"
      ]
    },
    {
      "cell_type": "markdown",
      "metadata": {
        "id": "VvfBmeYdNMjS"
      },
      "source": [
        "## correr modelos"
      ]
    },
    {
      "cell_type": "code",
      "execution_count": 15,
      "metadata": {
        "colab": {
          "base_uri": "https://localhost:8080/",
          "height": 165
        },
        "id": "3aUHHyn1NMUk",
        "outputId": "5cca059b-7873-46f4-ea16-7c8f239076dd"
      },
      "outputs": [
        {
          "name": "stderr",
          "output_type": "stream",
          "text": [
            "c:\\Users\\ANDRES\\miniconda3\\envs\\opt\\lib\\site-packages\\sklearn\\base.py:439: UserWarning: X does not have valid feature names, but IsolationForest was fitted with feature names\n",
            "  warnings.warn(\n",
            "c:\\Users\\ANDRES\\miniconda3\\envs\\opt\\lib\\site-packages\\sklearn\\base.py:439: UserWarning: X does not have valid feature names, but IsolationForest was fitted with feature names\n",
            "  warnings.warn(\n",
            "c:\\Users\\ANDRES\\miniconda3\\envs\\opt\\lib\\site-packages\\sklearn\\base.py:439: UserWarning: X does not have valid feature names, but IsolationForest was fitted with feature names\n",
            "  warnings.warn(\n",
            "c:\\Users\\ANDRES\\miniconda3\\envs\\opt\\lib\\site-packages\\sklearn\\base.py:439: UserWarning: X does not have valid feature names, but IsolationForest was fitted with feature names\n",
            "  warnings.warn(\n",
            "c:\\Users\\ANDRES\\miniconda3\\envs\\opt\\lib\\site-packages\\sklearn\\base.py:439: UserWarning: X does not have valid feature names, but IsolationForest was fitted with feature names\n",
            "  warnings.warn(\n",
            "c:\\Users\\ANDRES\\miniconda3\\envs\\opt\\lib\\site-packages\\sklearn\\base.py:439: UserWarning: X does not have valid feature names, but IsolationForest was fitted with feature names\n",
            "  warnings.warn(\n",
            "c:\\Users\\ANDRES\\miniconda3\\envs\\opt\\lib\\site-packages\\sklearn\\base.py:439: UserWarning: X does not have valid feature names, but IsolationForest was fitted with feature names\n",
            "  warnings.warn(\n",
            "c:\\Users\\ANDRES\\miniconda3\\envs\\opt\\lib\\site-packages\\sklearn\\base.py:439: UserWarning: X does not have valid feature names, but IsolationForest was fitted with feature names\n",
            "  warnings.warn(\n",
            "c:\\Users\\ANDRES\\miniconda3\\envs\\opt\\lib\\site-packages\\sklearn\\base.py:439: UserWarning: X does not have valid feature names, but IsolationForest was fitted with feature names\n",
            "  warnings.warn(\n",
            "c:\\Users\\ANDRES\\miniconda3\\envs\\opt\\lib\\site-packages\\sklearn\\base.py:439: UserWarning: X does not have valid feature names, but IsolationForest was fitted with feature names\n",
            "  warnings.warn(\n",
            "c:\\Users\\ANDRES\\miniconda3\\envs\\opt\\lib\\site-packages\\sklearn\\base.py:439: UserWarning: X does not have valid feature names, but IsolationForest was fitted with feature names\n",
            "  warnings.warn(\n",
            "c:\\Users\\ANDRES\\miniconda3\\envs\\opt\\lib\\site-packages\\sklearn\\base.py:439: UserWarning: X does not have valid feature names, but IsolationForest was fitted with feature names\n",
            "  warnings.warn(\n",
            "c:\\Users\\ANDRES\\miniconda3\\envs\\opt\\lib\\site-packages\\sklearn\\base.py:439: UserWarning: X does not have valid feature names, but IsolationForest was fitted with feature names\n",
            "  warnings.warn(\n",
            "c:\\Users\\ANDRES\\miniconda3\\envs\\opt\\lib\\site-packages\\sklearn\\base.py:439: UserWarning: X does not have valid feature names, but IsolationForest was fitted with feature names\n",
            "  warnings.warn(\n",
            "c:\\Users\\ANDRES\\miniconda3\\envs\\opt\\lib\\site-packages\\sklearn\\base.py:439: UserWarning: X does not have valid feature names, but IsolationForest was fitted with feature names\n",
            "  warnings.warn(\n",
            "c:\\Users\\ANDRES\\miniconda3\\envs\\opt\\lib\\site-packages\\sklearn\\base.py:439: UserWarning: X does not have valid feature names, but IsolationForest was fitted with feature names\n",
            "  warnings.warn(\n",
            "c:\\Users\\ANDRES\\miniconda3\\envs\\opt\\lib\\site-packages\\sklearn\\base.py:439: UserWarning: X does not have valid feature names, but IsolationForest was fitted with feature names\n",
            "  warnings.warn(\n",
            "c:\\Users\\ANDRES\\miniconda3\\envs\\opt\\lib\\site-packages\\sklearn\\base.py:439: UserWarning: X does not have valid feature names, but IsolationForest was fitted with feature names\n",
            "  warnings.warn(\n",
            "c:\\Users\\ANDRES\\miniconda3\\envs\\opt\\lib\\site-packages\\sklearn\\base.py:439: UserWarning: X does not have valid feature names, but IsolationForest was fitted with feature names\n",
            "  warnings.warn(\n",
            "c:\\Users\\ANDRES\\miniconda3\\envs\\opt\\lib\\site-packages\\sklearn\\base.py:439: UserWarning: X does not have valid feature names, but IsolationForest was fitted with feature names\n",
            "  warnings.warn(\n"
          ]
        },
        {
          "name": "stdout",
          "output_type": "stream",
          "text": [
            "\n",
            "📊 Matriz de Confusión: Anomalia_iso\n",
            "        Pred 0  Pred 1\n",
            "Real 0  780848   14499\n",
            "Real 1   63704   11189\n",
            "\n",
            "📊 Matriz de Confusión: Anomalia_DBSCAN\n",
            "        Pred 0  Pred 1\n",
            "Real 0  794235    1112\n",
            "Real 1   73395    1498\n",
            "\n",
            "📊 Matriz de Confusión: Anomalia_SVM\n",
            "        Pred 0  Pred 1\n",
            "Real 0  790552    4795\n",
            "Real 1   70683    4210\n",
            "\n",
            "📊 Matriz de Confusión: Anomalia_general\n",
            "        Pred 0  Pred 1\n",
            "Real 0  777536   17811\n",
            "Real 1   61913   12980\n"
          ]
        },
        {
          "data": {
            "text/plain": [
              "{'Anomalia_iso':         Pred 0  Pred 1\n",
              " Real 0  780848   14499\n",
              " Real 1   63704   11189,\n",
              " 'Anomalia_DBSCAN':         Pred 0  Pred 1\n",
              " Real 0  794235    1112\n",
              " Real 1   73395    1498,\n",
              " 'Anomalia_SVM':         Pred 0  Pred 1\n",
              " Real 0  790552    4795\n",
              " Real 1   70683    4210,\n",
              " 'Anomalia_general':         Pred 0  Pred 1\n",
              " Real 0  777536   17811\n",
              " Real 1   61913   12980}"
            ]
          },
          "execution_count": 15,
          "metadata": {},
          "output_type": "execute_result"
        }
      ],
      "source": [
        "df_resultado = entrenar_por_cliente(df)\n",
        "matriz_confusion_por_modelo(df_resultado)"
      ]
    }
  ],
  "metadata": {
    "colab": {
      "provenance": []
    },
    "kernelspec": {
      "display_name": "opt",
      "language": "python",
      "name": "python3"
    },
    "language_info": {
      "codemirror_mode": {
        "name": "ipython",
        "version": 3
      },
      "file_extension": ".py",
      "mimetype": "text/x-python",
      "name": "python",
      "nbconvert_exporter": "python",
      "pygments_lexer": "ipython3",
      "version": "3.10.16"
    }
  },
  "nbformat": 4,
  "nbformat_minor": 0
}
